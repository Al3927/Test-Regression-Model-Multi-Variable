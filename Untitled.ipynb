{
 "cells": [
  {
   "cell_type": "code",
   "execution_count": 35,
   "id": "5ed084c4-8433-49da-9b54-b15d2a96e171",
   "metadata": {},
   "outputs": [],
   "source": [
    "import time\n",
    "\n",
    "import numpy as np\n",
    "import pandas as pd\n",
    "\n",
    "import matplotlib.pyplot as plt\n",
    "import seaborn as sns\n",
    "\n",
    "from sklearn.neural_network import MLPRegressor\n",
    "from sklearn.model_selection import GridSearchCV\n",
    "from sklearn.linear_model import LinearRegression, SGDRegressor\n",
    "from sklearn.model_selection import train_test_split\n",
    "\n",
    "from sklearn.preprocessing import StandardScaler\n",
    "from sklearn.pipeline import Pipeline, make_pipeline\n",
    "\n",
    "\n",
    "sns.set_theme()"
   ]
  },
  {
   "cell_type": "code",
   "execution_count": 38,
   "id": "34b8b559-3c56-486b-a698-e0c946ccbec4",
   "metadata": {},
   "outputs": [],
   "source": [
    "a = np.linspace(0.1,1,500)\n",
    "b = np.linspace(-3,2,500)\n",
    "c = np.linspace(0.1,5,500)"
   ]
  },
  {
   "cell_type": "code",
   "execution_count": 39,
   "id": "3480f322-44e1-4ad4-a31a-b4e1df41b0a7",
   "metadata": {},
   "outputs": [],
   "source": [
    "y =((a+b+c)/(2*a*b))"
   ]
  },
  {
   "cell_type": "code",
   "execution_count": 40,
   "id": "9e175fa5-8b45-4701-9da0-1895a0ae27dc",
   "metadata": {},
   "outputs": [],
   "source": [
    "df = pd.DataFrame({'a': a,\n",
    "                  'b': b,\n",
    "                  'c': c,\n",
    "                  'y': y})"
   ]
  },
  {
   "cell_type": "code",
   "execution_count": 41,
   "id": "90a2a95b-0bc3-47ca-b456-18b6d85c7cc7",
   "metadata": {},
   "outputs": [
    {
     "data": {
      "text/html": [
       "<div>\n",
       "<style scoped>\n",
       "    .dataframe tbody tr th:only-of-type {\n",
       "        vertical-align: middle;\n",
       "    }\n",
       "\n",
       "    .dataframe tbody tr th {\n",
       "        vertical-align: top;\n",
       "    }\n",
       "\n",
       "    .dataframe thead th {\n",
       "        text-align: right;\n",
       "    }\n",
       "</style>\n",
       "<table border=\"1\" class=\"dataframe\">\n",
       "  <thead>\n",
       "    <tr style=\"text-align: right;\">\n",
       "      <th></th>\n",
       "      <th>a</th>\n",
       "      <th>b</th>\n",
       "      <th>c</th>\n",
       "      <th>y</th>\n",
       "    </tr>\n",
       "  </thead>\n",
       "  <tbody>\n",
       "    <tr>\n",
       "      <th>0</th>\n",
       "      <td>0.100000</td>\n",
       "      <td>-3.00000</td>\n",
       "      <td>0.100000</td>\n",
       "      <td>4.666667</td>\n",
       "    </tr>\n",
       "    <tr>\n",
       "      <th>1</th>\n",
       "      <td>0.101804</td>\n",
       "      <td>-2.98998</td>\n",
       "      <td>0.109820</td>\n",
       "      <td>4.563800</td>\n",
       "    </tr>\n",
       "    <tr>\n",
       "      <th>2</th>\n",
       "      <td>0.103607</td>\n",
       "      <td>-2.97996</td>\n",
       "      <td>0.119639</td>\n",
       "      <td>4.464381</td>\n",
       "    </tr>\n",
       "    <tr>\n",
       "      <th>3</th>\n",
       "      <td>0.105411</td>\n",
       "      <td>-2.96994</td>\n",
       "      <td>0.129459</td>\n",
       "      <td>4.368231</td>\n",
       "    </tr>\n",
       "    <tr>\n",
       "      <th>4</th>\n",
       "      <td>0.107214</td>\n",
       "      <td>-2.95992</td>\n",
       "      <td>0.139279</td>\n",
       "      <td>4.275185</td>\n",
       "    </tr>\n",
       "  </tbody>\n",
       "</table>\n",
       "</div>"
      ],
      "text/plain": [
       "          a        b         c         y\n",
       "0  0.100000 -3.00000  0.100000  4.666667\n",
       "1  0.101804 -2.98998  0.109820  4.563800\n",
       "2  0.103607 -2.97996  0.119639  4.464381\n",
       "3  0.105411 -2.96994  0.129459  4.368231\n",
       "4  0.107214 -2.95992  0.139279  4.275185"
      ]
     },
     "execution_count": 41,
     "metadata": {},
     "output_type": "execute_result"
    }
   ],
   "source": [
    "df.head()"
   ]
  },
  {
   "cell_type": "code",
   "execution_count": 42,
   "id": "bac36819-3f6b-4e93-a353-c396f7f01ab8",
   "metadata": {},
   "outputs": [],
   "source": [
    "y_sr = df.pop('y')\n",
    "X_df = df.copy()\n",
    "\n",
    "rest_X_df, test_X_df, rest_y_sr, test_y_sr = train_test_split(X_df, y_sr, test_size=0.2, random_state=0)\n",
    "train_X_df, val_X_df, train_y_sr, val_y_sr = train_test_split(rest_X_df, rest_y_sr, test_size=0.2, random_state=0)"
   ]
  },
  {
   "cell_type": "code",
   "execution_count": 43,
   "id": "7a371dce-4d02-4e25-9635-f9554e3250ec",
   "metadata": {},
   "outputs": [
    {
     "data": {
      "text/plain": [
       "Pipeline(steps=[('standardscaler', StandardScaler()),\n",
       "                ('linearregression', LinearRegression())])"
      ]
     },
     "execution_count": 43,
     "metadata": {},
     "output_type": "execute_result"
    }
   ],
   "source": [
    "linear_full_pipeline = make_pipeline(StandardScaler(), LinearRegression())\n",
    "linear_full_pipeline.fit(train_X_df, train_y_sr)"
   ]
  },
  {
   "cell_type": "code",
   "execution_count": 44,
   "id": "69dd9b3b-9869-4470-acf4-2cebfcb39bc8",
   "metadata": {},
   "outputs": [
    {
     "data": {
      "text/plain": [
       "-0.41084063026116846"
      ]
     },
     "execution_count": 44,
     "metadata": {},
     "output_type": "execute_result"
    }
   ],
   "source": [
    "linear_full_pipeline.score(val_X_df, val_y_sr)"
   ]
  },
  {
   "cell_type": "code",
   "execution_count": 57,
   "id": "12d49c2e-dc67-40ba-8ef9-8ca02dacfd79",
   "metadata": {},
   "outputs": [
    {
     "name": "stdout",
     "output_type": "stream",
     "text": [
      "Time elapsed: 197.5888397693634\n"
     ]
    },
    {
     "name": "stderr",
     "output_type": "stream",
     "text": [
      "C:\\ProgramData\\Anaconda3\\lib\\site-packages\\sklearn\\neural_network\\_multilayer_perceptron.py:614: ConvergenceWarning: Stochastic Optimizer: Maximum iterations (10000) reached and the optimization hasn't converged yet.\n",
      "  warnings.warn(\n"
     ]
    }
   ],
   "source": [
    "mlp = MLPRegressor(hidden_layer_sizes=70, solver='adam', random_state=0, max_iter=10000)\n",
    "mlp_full_pipeline = make_pipeline(StandardScaler(), mlp)\n",
    "\n",
    "params = {\n",
    "    'mlpregressor__alpha': [0.001, 0.01, 1],\n",
    "    'mlpregressor__hidden_layer_sizes': [10,30,50,70,100]\n",
    "}\n",
    "\n",
    "mlp_grid_search=GridSearchCV(mlp_full_pipeline, param_grid=params, cv=3)\n",
    "t0 = time.time()\n",
    "mlp_grid_search.fit(rest_X_df, rest_y_sr)\n",
    "t1 = time.time()\n",
    "print('Time elapsed:', t1 - t0)"
   ]
  },
  {
   "cell_type": "code",
   "execution_count": 58,
   "id": "a4abc030-2c65-44eb-8064-86a5bf533888",
   "metadata": {},
   "outputs": [
    {
     "data": {
      "text/plain": [
       "-0.06990469985807546"
      ]
     },
     "execution_count": 58,
     "metadata": {},
     "output_type": "execute_result"
    }
   ],
   "source": [
    "mlp_grid_search.best_score_"
   ]
  },
  {
   "cell_type": "code",
   "execution_count": null,
   "id": "00a9825b-f8a0-4dd1-a6a7-eb1d37301587",
   "metadata": {},
   "outputs": [],
   "source": []
  }
 ],
 "metadata": {
  "kernelspec": {
   "display_name": "Python 3",
   "language": "python",
   "name": "python3"
  },
  "language_info": {
   "codemirror_mode": {
    "name": "ipython",
    "version": 3
   },
   "file_extension": ".py",
   "mimetype": "text/x-python",
   "name": "python",
   "nbconvert_exporter": "python",
   "pygments_lexer": "ipython3",
   "version": "3.8.8"
  }
 },
 "nbformat": 4,
 "nbformat_minor": 5
}
