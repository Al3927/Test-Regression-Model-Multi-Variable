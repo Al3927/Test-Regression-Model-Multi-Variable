{
 "cells": [
  {
   "cell_type": "code",
   "execution_count": 35,
   "id": "5ed084c4-8433-49da-9b54-b15d2a96e171",
   "metadata": {},
   "outputs": [],
   "source": [
    "import time\n",
    "\n",
    "import numpy as np\n",
    "import pandas as pd\n",
    "\n",
    "import matplotlib.pyplot as plt\n",
    "import seaborn as sns\n",
    "\n",
    "from sklearn.neural_network import MLPRegressor\n",
    "from sklearn.model_selection import GridSearchCV\n",
    "from sklearn.linear_model import LinearRegression, SGDRegressor\n",
    "from sklearn.model_selection import train_test_split\n",
    "\n",
    "from sklearn.preprocessing import StandardScaler\n",
    "from sklearn.pipeline import Pipeline, make_pipeline\n",
    "\n",
    "\n",
    "sns.set_theme()"
   ]
  },
  {
   "cell_type": "code",
   "execution_count": 79,
   "id": "34b8b559-3c56-486b-a698-e0c946ccbec4",
   "metadata": {},
   "outputs": [],
   "source": [
    "a = np.linspace(0.1,100,5000)\n",
    "b = np.linspace(-3,2000,5000)\n",
    "c = np.linspace(0.1,50,5000)"
   ]
  },
  {
   "cell_type": "code",
   "execution_count": 80,
   "id": "3480f322-44e1-4ad4-a31a-b4e1df41b0a7",
   "metadata": {},
   "outputs": [],
   "source": [
    "y =((a+b+c)/(2*a*b))"
   ]
  },
  {
   "cell_type": "code",
   "execution_count": 81,
   "id": "9e175fa5-8b45-4701-9da0-1895a0ae27dc",
   "metadata": {},
   "outputs": [],
   "source": [
    "df = pd.DataFrame({'a': a,\n",
    "                  'b': b,\n",
    "                  'c': c,\n",
    "                  'y': y})"
   ]
  },
  {
   "cell_type": "code",
   "execution_count": 82,
   "id": "90a2a95b-0bc3-47ca-b456-18b6d85c7cc7",
   "metadata": {},
   "outputs": [
    {
     "data": {
      "text/html": [
       "<div>\n",
       "<style scoped>\n",
       "    .dataframe tbody tr th:only-of-type {\n",
       "        vertical-align: middle;\n",
       "    }\n",
       "\n",
       "    .dataframe tbody tr th {\n",
       "        vertical-align: top;\n",
       "    }\n",
       "\n",
       "    .dataframe thead th {\n",
       "        text-align: right;\n",
       "    }\n",
       "</style>\n",
       "<table border=\"1\" class=\"dataframe\">\n",
       "  <thead>\n",
       "    <tr style=\"text-align: right;\">\n",
       "      <th></th>\n",
       "      <th>a</th>\n",
       "      <th>b</th>\n",
       "      <th>c</th>\n",
       "      <th>y</th>\n",
       "    </tr>\n",
       "  </thead>\n",
       "  <tbody>\n",
       "    <tr>\n",
       "      <th>0</th>\n",
       "      <td>0.100000</td>\n",
       "      <td>-3.000000</td>\n",
       "      <td>0.100000</td>\n",
       "      <td>4.666667</td>\n",
       "    </tr>\n",
       "    <tr>\n",
       "      <th>1</th>\n",
       "      <td>0.119984</td>\n",
       "      <td>-2.599320</td>\n",
       "      <td>0.109982</td>\n",
       "      <td>3.798542</td>\n",
       "    </tr>\n",
       "    <tr>\n",
       "      <th>2</th>\n",
       "      <td>0.139968</td>\n",
       "      <td>-2.198640</td>\n",
       "      <td>0.119964</td>\n",
       "      <td>3.149920</td>\n",
       "    </tr>\n",
       "    <tr>\n",
       "      <th>3</th>\n",
       "      <td>0.159952</td>\n",
       "      <td>-1.797960</td>\n",
       "      <td>0.129946</td>\n",
       "      <td>2.621920</td>\n",
       "    </tr>\n",
       "    <tr>\n",
       "      <th>4</th>\n",
       "      <td>0.179936</td>\n",
       "      <td>-1.397279</td>\n",
       "      <td>0.139928</td>\n",
       "      <td>2.142653</td>\n",
       "    </tr>\n",
       "  </tbody>\n",
       "</table>\n",
       "</div>"
      ],
      "text/plain": [
       "          a         b         c         y\n",
       "0  0.100000 -3.000000  0.100000  4.666667\n",
       "1  0.119984 -2.599320  0.109982  3.798542\n",
       "2  0.139968 -2.198640  0.119964  3.149920\n",
       "3  0.159952 -1.797960  0.129946  2.621920\n",
       "4  0.179936 -1.397279  0.139928  2.142653"
      ]
     },
     "execution_count": 82,
     "metadata": {},
     "output_type": "execute_result"
    }
   ],
   "source": [
    "df.head()"
   ]
  },
  {
   "cell_type": "code",
   "execution_count": 83,
   "id": "bac36819-3f6b-4e93-a353-c396f7f01ab8",
   "metadata": {},
   "outputs": [],
   "source": [
    "y_sr = df.pop('y')\n",
    "X_df = df.copy()\n",
    "\n",
    "rest_X_df, test_X_df, rest_y_sr, test_y_sr = train_test_split(X_df, y_sr, test_size=0.2, random_state=0)\n",
    "train_X_df, val_X_df, train_y_sr, val_y_sr = train_test_split(rest_X_df, rest_y_sr, test_size=0.2, random_state=0)"
   ]
  },
  {
   "cell_type": "code",
   "execution_count": 84,
   "id": "7a371dce-4d02-4e25-9635-f9554e3250ec",
   "metadata": {},
   "outputs": [
    {
     "data": {
      "text/plain": [
       "Pipeline(steps=[('standardscaler', StandardScaler()),\n",
       "                ('linearregression', LinearRegression())])"
      ]
     },
     "execution_count": 84,
     "metadata": {},
     "output_type": "execute_result"
    }
   ],
   "source": [
    "linear_full_pipeline = make_pipeline(StandardScaler(), LinearRegression())\n",
    "linear_full_pipeline.fit(train_X_df, train_y_sr)"
   ]
  },
  {
   "cell_type": "code",
   "execution_count": 85,
   "id": "69dd9b3b-9869-4470-acf4-2cebfcb39bc8",
   "metadata": {},
   "outputs": [
    {
     "data": {
      "text/plain": [
       "0.0500252605905549"
      ]
     },
     "execution_count": 85,
     "metadata": {},
     "output_type": "execute_result"
    }
   ],
   "source": [
    "linear_full_pipeline.score(val_X_df, val_y_sr)"
   ]
  },
  {
   "cell_type": "code",
   "execution_count": 86,
   "id": "12d49c2e-dc67-40ba-8ef9-8ca02dacfd79",
   "metadata": {},
   "outputs": [
    {
     "name": "stdout",
     "output_type": "stream",
     "text": [
      "Time elapsed: 26.83967876434326\n"
     ]
    }
   ],
   "source": [
    "mlp = MLPRegressor(hidden_layer_sizes=70, solver='adam', random_state=0, max_iter=10000)\n",
    "mlp_full_pipeline = make_pipeline(StandardScaler(), mlp)\n",
    "\n",
    "params = {\n",
    "    'mlpregressor__alpha': [0.001, 0.01, 1],\n",
    "    'mlpregressor__hidden_layer_sizes': [10,30,50,70,100]\n",
    "}\n",
    "\n",
    "mlp_grid_search=GridSearchCV(mlp_full_pipeline, param_grid=params, cv=3)\n",
    "t0 = time.time()\n",
    "mlp_grid_search.fit(rest_X_df, rest_y_sr)\n",
    "t1 = time.time()\n",
    "print('Time elapsed:', t1 - t0)"
   ]
  },
  {
   "cell_type": "code",
   "execution_count": 87,
   "id": "a4abc030-2c65-44eb-8064-86a5bf533888",
   "metadata": {},
   "outputs": [
    {
     "data": {
      "text/plain": [
       "0.1907048861818563"
      ]
     },
     "execution_count": 87,
     "metadata": {},
     "output_type": "execute_result"
    }
   ],
   "source": [
    "mlp_grid_search.best_score_"
   ]
  },
  {
   "cell_type": "code",
   "execution_count": 63,
   "id": "8561220c-c44f-4365-b058-01150fed3cd6",
   "metadata": {},
   "outputs": [
    {
     "data": {
      "text/plain": [
       "437    2.718531\n",
       "231   -3.106030\n",
       "22     2.992744\n",
       "230   -3.041772\n",
       "180   -1.078434\n",
       "         ...   \n",
       "257   -5.768922\n",
       "111    0.350792\n",
       "146   -0.322243\n",
       "331    9.886942\n",
       "429    2.857706\n",
       "Name: y, Length: 320, dtype: float64"
      ]
     },
     "execution_count": 63,
     "metadata": {},
     "output_type": "execute_result"
    }
   ],
   "source": [
    "train_y_sr"
   ]
  },
  {
   "cell_type": "code",
   "execution_count": 64,
   "id": "00a9825b-f8a0-4dd1-a6a7-eb1d37301587",
   "metadata": {},
   "outputs": [
    {
     "data": {
      "text/plain": [
       "array([-13.74381359,  -1.43612873,   2.39353705,   5.68474608,\n",
       "         3.73619788, -15.23831818,   1.72870452,   2.8643402 ,\n",
       "        -1.8756889 ,   7.79463492,   3.91056941,   2.21916552,\n",
       "         3.49207773,  -1.96360094,  -2.84272128,   7.97045899,\n",
       "         2.44584851,  -6.71085081, -10.84271644,   2.25617673,\n",
       "         0.05837586,  -2.22733704,   3.00383743, -12.249309  ,\n",
       "        -9.43612389,   3.85825795,  -9.25109035,   3.47464057,\n",
       "         0.84958417,  -3.98557774,   2.56790859,   3.99775518,\n",
       "         4.54188963, -12.60095714,   2.08035266,   1.50424222,\n",
       "        -3.43375317,   1.95760821,   2.06223113,  -5.9196425 ,\n",
       "        -3.54601756,   1.53911653,  -0.73283245,   1.80067383,\n",
       "        -3.80975367,  -1.52404076,  -5.30425826,   4.31162394,\n",
       "       -14.35919783,   8.93749137,   2.16826469,   3.03871173,\n",
       "        -8.99656372,  -4.51304994,   4.43368402,  -1.26030466,\n",
       "        -2.66689722, -14.71084597,   4.01441742,   8.84957933,\n",
       "         4.5906184 ,   3.63157496,   8.67375526,   2.88177735,\n",
       "        -2.13942501,   2.87156097,   2.79459158,   3.1258975 ,\n",
       "         0.6737601 ,   4.34649825, -11.54601272,  -9.17238778,\n",
       "         4.64292986,   3.43976627,   3.30026904,   4.01519233,\n",
       "         3.45720342,   4.62549271,   1.83554814,   4.08494095])"
      ]
     },
     "execution_count": 64,
     "metadata": {},
     "output_type": "execute_result"
    }
   ],
   "source": [
    "mlp_grid_search.best_estimator_.predict(val_X_df)"
   ]
  },
  {
   "cell_type": "code",
   "execution_count": 65,
   "id": "3ffe7f5a-d6b0-4b13-a18c-cc32e7bb519a",
   "metadata": {},
   "outputs": [
    {
     "data": {
      "text/plain": [
       "261   -6.486445\n",
       "121    0.159230\n",
       "370    4.797150\n",
       "40     2.161497\n",
       "447    2.564652\n",
       "         ...   \n",
       "463    2.355379\n",
       "431    2.821413\n",
       "498    2.008255\n",
       "338    8.225969\n",
       "467    2.308916\n",
       "Name: y, Length: 80, dtype: float64"
      ]
     },
     "execution_count": 65,
     "metadata": {},
     "output_type": "execute_result"
    }
   ],
   "source": [
    "val_y_sr"
   ]
  },
  {
   "cell_type": "code",
   "execution_count": null,
   "id": "fd750adf-b091-487a-8ca4-8e45243da920",
   "metadata": {},
   "outputs": [],
   "source": [
    "\n"
   ]
  }
 ],
 "metadata": {
  "kernelspec": {
   "display_name": "Python 3",
   "language": "python",
   "name": "python3"
  },
  "language_info": {
   "codemirror_mode": {
    "name": "ipython",
    "version": 3
   },
   "file_extension": ".py",
   "mimetype": "text/x-python",
   "name": "python",
   "nbconvert_exporter": "python",
   "pygments_lexer": "ipython3",
   "version": "3.8.8"
  }
 },
 "nbformat": 4,
 "nbformat_minor": 5
}
